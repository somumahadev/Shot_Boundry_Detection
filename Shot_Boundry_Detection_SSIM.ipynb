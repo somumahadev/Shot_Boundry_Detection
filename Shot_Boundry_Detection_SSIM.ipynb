{
 "cells": [
  {
   "cell_type": "code",
   "execution_count": 1,
   "id": "7bc487b8",
   "metadata": {},
   "outputs": [],
   "source": [
    "# Import opencv\n",
    "import cv2 \n",
    "# Import Operating System\n",
    "import os\n",
    "import numpy as np\n",
    "from skimage.metrics import structural_similarity as ssim\n",
    "import argparse"
   ]
  },
  {
   "cell_type": "code",
   "execution_count": 2,
   "id": "ddc78c1e",
   "metadata": {},
   "outputs": [],
   "source": [
    "def options():\n",
    "    parser = argparse.ArgumentParser(description=\"Read image metadata\")\n",
    "    parser.add_argument(\"-o\", \"--first\", help=\"Input image file.\", required=True)\n",
    "    parser.add_argument(\"-c\", \"--second\", help=\"Input image file.\", required=True)\n",
    "    args = parser.parse_args()\n",
    "    return args"
   ]
  },
  {
   "cell_type": "code",
   "execution_count": 3,
   "id": "8c33d830",
   "metadata": {},
   "outputs": [],
   "source": [
    "def mse(imageA, imageB):\n",
    "    # the 'Mean Squared Error' between the two images is the sum of the squared difference between the two images\n",
    "    mse_error = np.sum((imageA.astype(\"float\") - imageB.astype(\"float\")) ** 2)\n",
    "    mse_error /= float(imageA.shape[0] * imageA.shape[1])\n",
    "    # return the MSE. The lower the error, the more \"similar\" the two images are.\n",
    "    return mse_error"
   ]
  },
  {
   "cell_type": "code",
   "execution_count": 4,
   "id": "09e9a282",
   "metadata": {},
   "outputs": [],
   "source": [
    "def compare(imageA, imageB):\n",
    " # Calculate the MSE and SSIM\n",
    "    m = mse(imageA, imageB)\n",
    "    s = ssim(imageA, imageB)\n",
    "# Return the SSIM. The higher the value, the more \"similar\" the two images are.\n",
    "    return s"
   ]
  },
  {
   "cell_type": "code",
   "execution_count": null,
   "id": "99c80a99",
   "metadata": {},
   "outputs": [],
   "source": [
    "MSE = []\n",
    "    SSIM = []\n",
    "    \n",
    "    vidcap = cv2.VideoCapture('video path')\n",
    "    success,image = vidcap.read()\n",
    "    count = 1\n",
    "    success = True\n",
    "    NoShotsBoundry =1\n",
    "    FramesDestinationFolder = '/FRAMES/'\n",
    "    while success:\n",
    "        success,image = vidcap.read()\n",
    "        print ('Read a new frame: ', success)\n",
    "        cv2.imwrite( FramesDestinationFolder+str(NoShotsBoundry)+'/' + \"%d.jpg\" % count, image)     # save frame as JPEG file\n",
    "    \n",
    "        if(count==1):\n",
    "            image1 = cv2.imread(FramesDestinationFolder+str(NoShotsBoundry)+'/1.jpg') \n",
    "        \n",
    "        image2 = cv2.imread(FramesDestinationFolder+str(NoShotsBoundry)+'/' + \"%d.jpg\" % count) \n",
    "        gray1 = cv2.cvtColor(image1, cv2.COLOR_BGR2GRAY)\n",
    "        gray2 = cv2.cvtColor(image2, cv2.COLOR_BGR2GRAY)\n",
    "            \n",
    "        gray1 = cv2.resize(gray1, [500,500])\n",
    "        gray2 = cv2.resize(gray2, [500,500])\n",
    "        mse_value = mse(gray1, gray2)\n",
    "        ssim_value = compare(gray1, gray2) \n",
    "        if(ssim_value<=0.17):\n",
    "            image1 = cv2.imread(FramesDestinationFolder+str(NoShotsBoundry)+'/'+ \"%d.jpg\" % count) \n",
    "            print('Frame'+ str(count))\n",
    "            NoShotsBoundry = NoShotsBoundry+1\n",
    "            path = os.path.join(FramesDestinationFolder, str(NoShotsBoundry))\n",
    "            if not os.path.exists(path):\n",
    "                os.mkdir(path)\n",
    "        \n",
    "        MSE.append(mse_value)\n",
    "        SSIM.append(ssim_value)\n",
    "        \n",
    "        print('---MSE and SSIM Between',str(1) +\" and \"+ str(count))\n",
    "        print(\"SSIM:\", ssim_value)\n",
    "        count += 1"
   ]
  }
 ],
 "metadata": {
  "kernelspec": {
   "display_name": "Python 3",
   "language": "python",
   "name": "python3"
  },
  "language_info": {
   "codemirror_mode": {
    "name": "ipython",
    "version": 3
   },
   "file_extension": ".py",
   "mimetype": "text/x-python",
   "name": "python",
   "nbconvert_exporter": "python",
   "pygments_lexer": "ipython3",
   "version": "3.8.10"
  }
 },
 "nbformat": 4,
 "nbformat_minor": 5
}
